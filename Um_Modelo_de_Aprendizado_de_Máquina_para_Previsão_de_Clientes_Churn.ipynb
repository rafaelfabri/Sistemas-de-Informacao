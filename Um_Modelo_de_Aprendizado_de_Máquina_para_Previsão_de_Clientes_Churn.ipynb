{
  "nbformat": 4,
  "nbformat_minor": 0,
  "metadata": {
    "colab": {
      "name": "Um Modelo de Aprendizado de Máquina para Previsão de Clientes Churn.ipynb",
      "provenance": [],
      "authorship_tag": "ABX9TyPQFuNUsw4mgA+8UT8d7DIb",
      "include_colab_link": true
    },
    "kernelspec": {
      "name": "python3",
      "display_name": "Python 3"
    },
    "language_info": {
      "name": "python"
    },
    "accelerator": "GPU"
  },
  "cells": [
    {
      "cell_type": "markdown",
      "metadata": {
        "id": "view-in-github",
        "colab_type": "text"
      },
      "source": [
        "<a href=\"https://colab.research.google.com/github/rafaelfabri/Sistemas-de-Informacao/blob/main/Um_Modelo_de_Aprendizado_de_M%C3%A1quina_para_Previs%C3%A3o_de_Clientes_Churn.ipynb\" target=\"_parent\"><img src=\"https://colab.research.google.com/assets/colab-badge.svg\" alt=\"Open In Colab\"/></a>"
      ]
    },
    {
      "cell_type": "markdown",
      "metadata": {
        "id": "vQza7rG-4o68"
      },
      "source": [
        "# **Um Modelo de Aprendizado de Máquina para Previsão de Clientes Churn**"
      ]
    },
    {
      "cell_type": "markdown",
      "metadata": {
        "id": "aGgQ9tYXClGO"
      },
      "source": [
        "## **1. Importando bibliotecas e conjunto de dados**"
      ]
    },
    {
      "cell_type": "code",
      "metadata": {
        "id": "QOc2jGsX9QdM"
      },
      "source": [
        "#importando bibliotecas\n",
        "import pandas as pd\n",
        "import numpy as np\n",
        "import seaborn as sns\n",
        "import matplotlib.pyplot as plt"
      ],
      "execution_count": null,
      "outputs": []
    },
    {
      "cell_type": "code",
      "metadata": {
        "id": "W58uhzRm-p8z"
      },
      "source": [
        "#importando base de dados\n",
        "df = pd.read_csv('https://www.dropbox.com/s/mahtoy42e2affj0/Telco-Customer-Churn.csv?dl=1')"
      ],
      "execution_count": null,
      "outputs": []
    },
    {
      "cell_type": "markdown",
      "metadata": {
        "id": "J0AgxF9MCy8H"
      },
      "source": [
        "## **2. Análise Exploratória**"
      ]
    },
    {
      "cell_type": "code",
      "metadata": {
        "colab": {
          "base_uri": "https://localhost:8080/"
        },
        "id": "3sAfxtQ8-uN6",
        "outputId": "c7fd5102-a589-46e9-f71a-5fa0de84fd58"
      },
      "source": [
        "#Quantidade de linhas e colunas \n",
        "print('O conjunto de dados possui', df.shape[0], 'linhas')\n",
        "print('O conjunto de dados possui', df.shape[1], 'colunas')"
      ],
      "execution_count": null,
      "outputs": [
        {
          "output_type": "stream",
          "text": [
            "O conjunto de dados possui 7043 linhas\n",
            "O conjunto de dados possui 21 colunas\n"
          ],
          "name": "stdout"
        }
      ]
    },
    {
      "cell_type": "code",
      "metadata": {
        "colab": {
          "base_uri": "https://localhost:8080/",
          "height": 309
        },
        "id": "dQDv484e-vrC",
        "outputId": "619edbb7-7fa4-443e-f581-f2298ca12a99"
      },
      "source": [
        "#5 primeiras linhas\n",
        "df.head()"
      ],
      "execution_count": null,
      "outputs": [
        {
          "output_type": "execute_result",
          "data": {
            "text/html": [
              "<div>\n",
              "<style scoped>\n",
              "    .dataframe tbody tr th:only-of-type {\n",
              "        vertical-align: middle;\n",
              "    }\n",
              "\n",
              "    .dataframe tbody tr th {\n",
              "        vertical-align: top;\n",
              "    }\n",
              "\n",
              "    .dataframe thead th {\n",
              "        text-align: right;\n",
              "    }\n",
              "</style>\n",
              "<table border=\"1\" class=\"dataframe\">\n",
              "  <thead>\n",
              "    <tr style=\"text-align: right;\">\n",
              "      <th></th>\n",
              "      <th>customerID</th>\n",
              "      <th>gender</th>\n",
              "      <th>SeniorCitizen</th>\n",
              "      <th>Partner</th>\n",
              "      <th>Dependents</th>\n",
              "      <th>tenure</th>\n",
              "      <th>PhoneService</th>\n",
              "      <th>MultipleLines</th>\n",
              "      <th>InternetService</th>\n",
              "      <th>OnlineSecurity</th>\n",
              "      <th>OnlineBackup</th>\n",
              "      <th>DeviceProtection</th>\n",
              "      <th>TechSupport</th>\n",
              "      <th>StreamingTV</th>\n",
              "      <th>StreamingMovies</th>\n",
              "      <th>Contract</th>\n",
              "      <th>PaperlessBilling</th>\n",
              "      <th>PaymentMethod</th>\n",
              "      <th>MonthlyCharges</th>\n",
              "      <th>TotalCharges</th>\n",
              "      <th>Churn</th>\n",
              "    </tr>\n",
              "  </thead>\n",
              "  <tbody>\n",
              "    <tr>\n",
              "      <th>0</th>\n",
              "      <td>7590-VHVEG</td>\n",
              "      <td>Female</td>\n",
              "      <td>0</td>\n",
              "      <td>Yes</td>\n",
              "      <td>No</td>\n",
              "      <td>1</td>\n",
              "      <td>No</td>\n",
              "      <td>No phone service</td>\n",
              "      <td>DSL</td>\n",
              "      <td>No</td>\n",
              "      <td>Yes</td>\n",
              "      <td>No</td>\n",
              "      <td>No</td>\n",
              "      <td>No</td>\n",
              "      <td>No</td>\n",
              "      <td>Month-to-month</td>\n",
              "      <td>Yes</td>\n",
              "      <td>Electronic check</td>\n",
              "      <td>29.85</td>\n",
              "      <td>29.85</td>\n",
              "      <td>No</td>\n",
              "    </tr>\n",
              "    <tr>\n",
              "      <th>1</th>\n",
              "      <td>5575-GNVDE</td>\n",
              "      <td>Male</td>\n",
              "      <td>0</td>\n",
              "      <td>No</td>\n",
              "      <td>No</td>\n",
              "      <td>34</td>\n",
              "      <td>Yes</td>\n",
              "      <td>No</td>\n",
              "      <td>DSL</td>\n",
              "      <td>Yes</td>\n",
              "      <td>No</td>\n",
              "      <td>Yes</td>\n",
              "      <td>No</td>\n",
              "      <td>No</td>\n",
              "      <td>No</td>\n",
              "      <td>One year</td>\n",
              "      <td>No</td>\n",
              "      <td>Mailed check</td>\n",
              "      <td>56.95</td>\n",
              "      <td>1889.5</td>\n",
              "      <td>No</td>\n",
              "    </tr>\n",
              "    <tr>\n",
              "      <th>2</th>\n",
              "      <td>3668-QPYBK</td>\n",
              "      <td>Male</td>\n",
              "      <td>0</td>\n",
              "      <td>No</td>\n",
              "      <td>No</td>\n",
              "      <td>2</td>\n",
              "      <td>Yes</td>\n",
              "      <td>No</td>\n",
              "      <td>DSL</td>\n",
              "      <td>Yes</td>\n",
              "      <td>Yes</td>\n",
              "      <td>No</td>\n",
              "      <td>No</td>\n",
              "      <td>No</td>\n",
              "      <td>No</td>\n",
              "      <td>Month-to-month</td>\n",
              "      <td>Yes</td>\n",
              "      <td>Mailed check</td>\n",
              "      <td>53.85</td>\n",
              "      <td>108.15</td>\n",
              "      <td>Yes</td>\n",
              "    </tr>\n",
              "    <tr>\n",
              "      <th>3</th>\n",
              "      <td>7795-CFOCW</td>\n",
              "      <td>Male</td>\n",
              "      <td>0</td>\n",
              "      <td>No</td>\n",
              "      <td>No</td>\n",
              "      <td>45</td>\n",
              "      <td>No</td>\n",
              "      <td>No phone service</td>\n",
              "      <td>DSL</td>\n",
              "      <td>Yes</td>\n",
              "      <td>No</td>\n",
              "      <td>Yes</td>\n",
              "      <td>Yes</td>\n",
              "      <td>No</td>\n",
              "      <td>No</td>\n",
              "      <td>One year</td>\n",
              "      <td>No</td>\n",
              "      <td>Bank transfer (automatic)</td>\n",
              "      <td>42.30</td>\n",
              "      <td>1840.75</td>\n",
              "      <td>No</td>\n",
              "    </tr>\n",
              "    <tr>\n",
              "      <th>4</th>\n",
              "      <td>9237-HQITU</td>\n",
              "      <td>Female</td>\n",
              "      <td>0</td>\n",
              "      <td>No</td>\n",
              "      <td>No</td>\n",
              "      <td>2</td>\n",
              "      <td>Yes</td>\n",
              "      <td>No</td>\n",
              "      <td>Fiber optic</td>\n",
              "      <td>No</td>\n",
              "      <td>No</td>\n",
              "      <td>No</td>\n",
              "      <td>No</td>\n",
              "      <td>No</td>\n",
              "      <td>No</td>\n",
              "      <td>Month-to-month</td>\n",
              "      <td>Yes</td>\n",
              "      <td>Electronic check</td>\n",
              "      <td>70.70</td>\n",
              "      <td>151.65</td>\n",
              "      <td>Yes</td>\n",
              "    </tr>\n",
              "  </tbody>\n",
              "</table>\n",
              "</div>"
            ],
            "text/plain": [
              "   customerID  gender  SeniorCitizen  ... MonthlyCharges TotalCharges  Churn\n",
              "0  7590-VHVEG  Female              0  ...          29.85        29.85     No\n",
              "1  5575-GNVDE    Male              0  ...          56.95       1889.5     No\n",
              "2  3668-QPYBK    Male              0  ...          53.85       108.15    Yes\n",
              "3  7795-CFOCW    Male              0  ...          42.30      1840.75     No\n",
              "4  9237-HQITU  Female              0  ...          70.70       151.65    Yes\n",
              "\n",
              "[5 rows x 21 columns]"
            ]
          },
          "metadata": {
            "tags": []
          },
          "execution_count": 4
        }
      ]
    },
    {
      "cell_type": "markdown",
      "metadata": {
        "id": "H0j4AU9sD2ZB"
      },
      "source": [
        "A coluna customerID não tem nenhuma utilidade, pois apenas representa o ID do cliente."
      ]
    },
    {
      "cell_type": "code",
      "metadata": {
        "id": "cwVnx_1NEf96"
      },
      "source": [
        "#apagando coluna customerID\n",
        "df.drop(labels= 'customerID', axis = 1, inplace = True)"
      ],
      "execution_count": null,
      "outputs": []
    },
    {
      "cell_type": "code",
      "metadata": {
        "colab": {
          "base_uri": "https://localhost:8080/"
        },
        "id": "WHOWgCCYEsR3",
        "outputId": "633b617c-4ddb-4ede-b34b-a0974fbd2cf5"
      },
      "source": [
        "#nova quantidade de linhas e colunas\n",
        "print('O conjunto de dados possui', df.shape[0], 'linhas')\n",
        "print('O conjunto de dados possui', df.shape[1], 'colunas')"
      ],
      "execution_count": null,
      "outputs": [
        {
          "output_type": "stream",
          "text": [
            "O conjunto de dados possui 7043 linhas\n",
            "O conjunto de dados possui 20 colunas\n"
          ],
          "name": "stdout"
        }
      ]
    },
    {
      "cell_type": "code",
      "metadata": {
        "colab": {
          "base_uri": "https://localhost:8080/"
        },
        "id": "NGVYn_zRD71P",
        "outputId": "5a43b2aa-16de-4936-86ba-ab7627ba7a5b"
      },
      "source": [
        "#Verificando quantidade de valores únicos na base de dados\n",
        "df.nunique()"
      ],
      "execution_count": null,
      "outputs": [
        {
          "output_type": "execute_result",
          "data": {
            "text/plain": [
              "gender                 2\n",
              "SeniorCitizen          2\n",
              "Partner                2\n",
              "Dependents             2\n",
              "tenure                73\n",
              "PhoneService           2\n",
              "MultipleLines          3\n",
              "InternetService        3\n",
              "OnlineSecurity         3\n",
              "OnlineBackup           3\n",
              "DeviceProtection       3\n",
              "TechSupport            3\n",
              "StreamingTV            3\n",
              "StreamingMovies        3\n",
              "Contract               3\n",
              "PaperlessBilling       2\n",
              "PaymentMethod          4\n",
              "MonthlyCharges      1585\n",
              "TotalCharges        6531\n",
              "Churn                  2\n",
              "dtype: int64"
            ]
          },
          "metadata": {
            "tags": []
          },
          "execution_count": 6
        }
      ]
    },
    {
      "cell_type": "code",
      "metadata": {
        "colab": {
          "base_uri": "https://localhost:8080/"
        },
        "id": "14qiLNO1FBYN",
        "outputId": "c1bc69c4-a8db-4c17-9129-5748e30f0d7c"
      },
      "source": [
        "#Verificando o tipo de cada coluna no DataFrame\n",
        "df.dtypes"
      ],
      "execution_count": null,
      "outputs": [
        {
          "output_type": "execute_result",
          "data": {
            "text/plain": [
              "gender               object\n",
              "SeniorCitizen         int64\n",
              "Partner              object\n",
              "Dependents           object\n",
              "tenure                int64\n",
              "PhoneService         object\n",
              "MultipleLines        object\n",
              "InternetService      object\n",
              "OnlineSecurity       object\n",
              "OnlineBackup         object\n",
              "DeviceProtection     object\n",
              "TechSupport          object\n",
              "StreamingTV          object\n",
              "StreamingMovies      object\n",
              "Contract             object\n",
              "PaperlessBilling     object\n",
              "PaymentMethod        object\n",
              "MonthlyCharges      float64\n",
              "TotalCharges         object\n",
              "Churn                object\n",
              "dtype: object"
            ]
          },
          "metadata": {
            "tags": []
          },
          "execution_count": 7
        }
      ]
    },
    {
      "cell_type": "markdown",
      "metadata": {
        "id": "IsVOSaoTFOAV"
      },
      "source": [
        "Observa-se que a coluna *TotalCharges* é do tipo object (String - texto), porém essa variável é representada por números. \n",
        "\n",
        "É normal ocorrer atribuições de um tipo errado a uma coluna do DataFrame, isso pode ter ocorrido por alguns motivos, mais comum é que os números estejam separados por vírgula e o Python interpreta apenas pontos como separadosr decimais."
      ]
    },
    {
      "cell_type": "code",
      "metadata": {
        "id": "nDVq3bYoHPAt"
      },
      "source": [
        "#Fazer a conversão dos dados de texto para número\n",
        "df['TotalCharges'] = pd.to_numeric(arg = df['TotalCharges'], errors='coerce', downcast='float')"
      ],
      "execution_count": null,
      "outputs": []
    },
    {
      "cell_type": "code",
      "metadata": {
        "colab": {
          "base_uri": "https://localhost:8080/"
        },
        "id": "ot31_AUV0-1i",
        "outputId": "8667e90d-36a8-4345-9bd9-936a8fe0e8b9"
      },
      "source": [
        "#Verificando o tipo de cada coluna no DataFrame\n",
        "df.dtypes"
      ],
      "execution_count": null,
      "outputs": [
        {
          "output_type": "execute_result",
          "data": {
            "text/plain": [
              "gender               object\n",
              "SeniorCitizen         int64\n",
              "Partner              object\n",
              "Dependents           object\n",
              "tenure                int64\n",
              "PhoneService         object\n",
              "MultipleLines        object\n",
              "InternetService      object\n",
              "OnlineSecurity       object\n",
              "OnlineBackup         object\n",
              "DeviceProtection     object\n",
              "TechSupport          object\n",
              "StreamingTV          object\n",
              "StreamingMovies      object\n",
              "Contract             object\n",
              "PaperlessBilling     object\n",
              "PaymentMethod        object\n",
              "MonthlyCharges      float64\n",
              "TotalCharges        float32\n",
              "Churn                object\n",
              "dtype: object"
            ]
          },
          "metadata": {
            "tags": []
          },
          "execution_count": 15
        }
      ]
    },
    {
      "cell_type": "code",
      "metadata": {
        "colab": {
          "base_uri": "https://localhost:8080/"
        },
        "id": "LzvavPl6-xR7",
        "outputId": "87db55f9-af30-438d-94fe-3de3377de278"
      },
      "source": [
        "#Verificando se há dados ausentes\n",
        "df.isnull().sum()"
      ],
      "execution_count": null,
      "outputs": [
        {
          "output_type": "execute_result",
          "data": {
            "text/plain": [
              "gender               0\n",
              "SeniorCitizen        0\n",
              "Partner              0\n",
              "Dependents           0\n",
              "tenure               0\n",
              "PhoneService         0\n",
              "MultipleLines        0\n",
              "InternetService      0\n",
              "OnlineSecurity       0\n",
              "OnlineBackup         0\n",
              "DeviceProtection     0\n",
              "TechSupport          0\n",
              "StreamingTV          0\n",
              "StreamingMovies      0\n",
              "Contract             0\n",
              "PaperlessBilling     0\n",
              "PaymentMethod        0\n",
              "MonthlyCharges       0\n",
              "TotalCharges        11\n",
              "Churn                0\n",
              "dtype: int64"
            ]
          },
          "metadata": {
            "tags": []
          },
          "execution_count": 16
        }
      ]
    },
    {
      "cell_type": "markdown",
      "metadata": {
        "id": "1e2u5L8R3ChF"
      },
      "source": [
        "Existem 11 linhas com dados ausentes na coluna *TotalCharges*"
      ]
    },
    {
      "cell_type": "code",
      "metadata": {
        "colab": {
          "base_uri": "https://localhost:8080/",
          "height": 196
        },
        "id": "AawBEvAP2ohq",
        "outputId": "bd705505-a3ac-4564-e708-1f84d2a0a59c"
      },
      "source": [
        "#Vendo 3 linhas onde os dados de TotalCharges é ausente \n",
        "df[df['TotalCharges'].isnull()].head(3)"
      ],
      "execution_count": null,
      "outputs": [
        {
          "output_type": "execute_result",
          "data": {
            "text/html": [
              "<div>\n",
              "<style scoped>\n",
              "    .dataframe tbody tr th:only-of-type {\n",
              "        vertical-align: middle;\n",
              "    }\n",
              "\n",
              "    .dataframe tbody tr th {\n",
              "        vertical-align: top;\n",
              "    }\n",
              "\n",
              "    .dataframe thead th {\n",
              "        text-align: right;\n",
              "    }\n",
              "</style>\n",
              "<table border=\"1\" class=\"dataframe\">\n",
              "  <thead>\n",
              "    <tr style=\"text-align: right;\">\n",
              "      <th></th>\n",
              "      <th>gender</th>\n",
              "      <th>SeniorCitizen</th>\n",
              "      <th>Partner</th>\n",
              "      <th>Dependents</th>\n",
              "      <th>tenure</th>\n",
              "      <th>PhoneService</th>\n",
              "      <th>MultipleLines</th>\n",
              "      <th>InternetService</th>\n",
              "      <th>OnlineSecurity</th>\n",
              "      <th>OnlineBackup</th>\n",
              "      <th>DeviceProtection</th>\n",
              "      <th>TechSupport</th>\n",
              "      <th>StreamingTV</th>\n",
              "      <th>StreamingMovies</th>\n",
              "      <th>Contract</th>\n",
              "      <th>PaperlessBilling</th>\n",
              "      <th>PaymentMethod</th>\n",
              "      <th>MonthlyCharges</th>\n",
              "      <th>TotalCharges</th>\n",
              "      <th>Churn</th>\n",
              "    </tr>\n",
              "  </thead>\n",
              "  <tbody>\n",
              "    <tr>\n",
              "      <th>488</th>\n",
              "      <td>Female</td>\n",
              "      <td>0</td>\n",
              "      <td>Yes</td>\n",
              "      <td>Yes</td>\n",
              "      <td>0</td>\n",
              "      <td>No</td>\n",
              "      <td>No phone service</td>\n",
              "      <td>DSL</td>\n",
              "      <td>Yes</td>\n",
              "      <td>No</td>\n",
              "      <td>Yes</td>\n",
              "      <td>Yes</td>\n",
              "      <td>Yes</td>\n",
              "      <td>No</td>\n",
              "      <td>Two year</td>\n",
              "      <td>Yes</td>\n",
              "      <td>Bank transfer (automatic)</td>\n",
              "      <td>52.55</td>\n",
              "      <td>NaN</td>\n",
              "      <td>No</td>\n",
              "    </tr>\n",
              "    <tr>\n",
              "      <th>753</th>\n",
              "      <td>Male</td>\n",
              "      <td>0</td>\n",
              "      <td>No</td>\n",
              "      <td>Yes</td>\n",
              "      <td>0</td>\n",
              "      <td>Yes</td>\n",
              "      <td>No</td>\n",
              "      <td>No</td>\n",
              "      <td>No internet service</td>\n",
              "      <td>No internet service</td>\n",
              "      <td>No internet service</td>\n",
              "      <td>No internet service</td>\n",
              "      <td>No internet service</td>\n",
              "      <td>No internet service</td>\n",
              "      <td>Two year</td>\n",
              "      <td>No</td>\n",
              "      <td>Mailed check</td>\n",
              "      <td>20.25</td>\n",
              "      <td>NaN</td>\n",
              "      <td>No</td>\n",
              "    </tr>\n",
              "    <tr>\n",
              "      <th>936</th>\n",
              "      <td>Female</td>\n",
              "      <td>0</td>\n",
              "      <td>Yes</td>\n",
              "      <td>Yes</td>\n",
              "      <td>0</td>\n",
              "      <td>Yes</td>\n",
              "      <td>No</td>\n",
              "      <td>DSL</td>\n",
              "      <td>Yes</td>\n",
              "      <td>Yes</td>\n",
              "      <td>Yes</td>\n",
              "      <td>No</td>\n",
              "      <td>Yes</td>\n",
              "      <td>Yes</td>\n",
              "      <td>Two year</td>\n",
              "      <td>No</td>\n",
              "      <td>Mailed check</td>\n",
              "      <td>80.85</td>\n",
              "      <td>NaN</td>\n",
              "      <td>No</td>\n",
              "    </tr>\n",
              "  </tbody>\n",
              "</table>\n",
              "</div>"
            ],
            "text/plain": [
              "     gender  SeniorCitizen Partner  ... MonthlyCharges  TotalCharges Churn\n",
              "488  Female              0     Yes  ...          52.55           NaN    No\n",
              "753    Male              0      No  ...          20.25           NaN    No\n",
              "936  Female              0     Yes  ...          80.85           NaN    No\n",
              "\n",
              "[3 rows x 20 columns]"
            ]
          },
          "metadata": {
            "tags": []
          },
          "execution_count": 19
        }
      ]
    },
    {
      "cell_type": "markdown",
      "metadata": {
        "id": "BY3-Fl5M3cHC"
      },
      "source": [
        "Verificando todas as colunas onde TotalChages é NaN, nota-se que a variável tenure (tempo de assinatura do cliente) é igual a zero. Portanto, o motivo dos dados serem ausentes é porque ainda não completou 1 mês de assinatura, assim ainda não tendo nenhum pagamento para ser contabilizado em TotalCharges."
      ]
    },
    {
      "cell_type": "code",
      "metadata": {
        "id": "7F29m8K74mMo"
      },
      "source": [
        "#Substituíndo dados ausentes em Total Charges por zero\n",
        "df['TotalCharges'].fillna(0, inplace = True) "
      ],
      "execution_count": null,
      "outputs": []
    },
    {
      "cell_type": "code",
      "metadata": {
        "colab": {
          "base_uri": "https://localhost:8080/"
        },
        "id": "51kTzcks5ExT",
        "outputId": "3231a672-d55c-4273-f6fe-2e8dd9db95fe"
      },
      "source": [
        "print('Quantidade de dados ausentes em TotalCharges =', df['TotalCharges'].isnull().sum())"
      ],
      "execution_count": null,
      "outputs": [
        {
          "output_type": "stream",
          "text": [
            "Quantidade de dados ausentes em TotalCharges = 0\n"
          ],
          "name": "stdout"
        }
      ]
    },
    {
      "cell_type": "markdown",
      "metadata": {
        "id": "4QuSwQSx_K1Q"
      },
      "source": [
        "## **3. Machine Learning**"
      ]
    },
    {
      "cell_type": "markdown",
      "metadata": {
        "id": "fn5tSwQZ6-g_"
      },
      "source": [
        "### **3.1 Pré-Processamento**"
      ]
    },
    {
      "cell_type": "code",
      "metadata": {
        "id": "kh6C4qSke5FU"
      },
      "source": [
        "#instalando scikit-plot\n",
        "!pip install -q scikit-plot"
      ],
      "execution_count": null,
      "outputs": []
    },
    {
      "cell_type": "code",
      "metadata": {
        "id": "PIDt6gPw_Xco",
        "colab": {
          "base_uri": "https://localhost:8080/"
        },
        "outputId": "1f029a67-1765-40bd-8a8c-ca7621cae0d2"
      },
      "source": [
        "#importando bibliotecas de ML\n",
        "from sklearn.ensemble import GradientBoostingClassifier\n",
        "from sklearn.model_selection import train_test_split\n",
        "from sklearn.model_selection import GridSearchCV\n",
        "from sklearn.preprocessing import LabelEncoder\n",
        "from imblearn.over_sampling import RandomOverSampler\n",
        "from sklearn.metrics import confusion_matrix, classification_report\n",
        "import scikitplot"
      ],
      "execution_count": null,
      "outputs": [
        {
          "output_type": "stream",
          "text": [
            "/usr/local/lib/python3.7/dist-packages/sklearn/externals/six.py:31: FutureWarning: The module is deprecated in version 0.21 and will be removed in version 0.23 since we've dropped support for Python 2.7. Please rely on the official version of six (https://pypi.org/project/six/).\n",
            "  \"(https://pypi.org/project/six/).\", FutureWarning)\n",
            "/usr/local/lib/python3.7/dist-packages/sklearn/utils/deprecation.py:144: FutureWarning: The sklearn.neighbors.base module is  deprecated in version 0.22 and will be removed in version 0.24. The corresponding classes / functions should instead be imported from sklearn.neighbors. Anything that cannot be imported from sklearn.neighbors is now part of the private API.\n",
            "  warnings.warn(message, FutureWarning)\n"
          ],
          "name": "stderr"
        }
      ]
    },
    {
      "cell_type": "code",
      "metadata": {
        "id": "pZUJDq4rC5oX"
      },
      "source": [
        "#copinado base de dados para df_copy\n",
        "df_copy = df.copy()"
      ],
      "execution_count": null,
      "outputs": []
    },
    {
      "cell_type": "code",
      "metadata": {
        "colab": {
          "base_uri": "https://localhost:8080/",
          "height": 213
        },
        "id": "k6XsPA6oKtFo",
        "outputId": "048ac91e-9b7d-4576-beeb-7ff0670b6c84"
      },
      "source": [
        "df.head(3)"
      ],
      "execution_count": null,
      "outputs": [
        {
          "output_type": "execute_result",
          "data": {
            "text/html": [
              "<div>\n",
              "<style scoped>\n",
              "    .dataframe tbody tr th:only-of-type {\n",
              "        vertical-align: middle;\n",
              "    }\n",
              "\n",
              "    .dataframe tbody tr th {\n",
              "        vertical-align: top;\n",
              "    }\n",
              "\n",
              "    .dataframe thead th {\n",
              "        text-align: right;\n",
              "    }\n",
              "</style>\n",
              "<table border=\"1\" class=\"dataframe\">\n",
              "  <thead>\n",
              "    <tr style=\"text-align: right;\">\n",
              "      <th></th>\n",
              "      <th>customerID</th>\n",
              "      <th>gender</th>\n",
              "      <th>SeniorCitizen</th>\n",
              "      <th>Partner</th>\n",
              "      <th>Dependents</th>\n",
              "      <th>tenure</th>\n",
              "      <th>PhoneService</th>\n",
              "      <th>MultipleLines</th>\n",
              "      <th>InternetService</th>\n",
              "      <th>OnlineSecurity</th>\n",
              "      <th>OnlineBackup</th>\n",
              "      <th>DeviceProtection</th>\n",
              "      <th>TechSupport</th>\n",
              "      <th>StreamingTV</th>\n",
              "      <th>StreamingMovies</th>\n",
              "      <th>Contract</th>\n",
              "      <th>PaperlessBilling</th>\n",
              "      <th>PaymentMethod</th>\n",
              "      <th>MonthlyCharges</th>\n",
              "      <th>TotalCharges</th>\n",
              "      <th>Churn</th>\n",
              "    </tr>\n",
              "  </thead>\n",
              "  <tbody>\n",
              "    <tr>\n",
              "      <th>0</th>\n",
              "      <td>7590-VHVEG</td>\n",
              "      <td>Female</td>\n",
              "      <td>0</td>\n",
              "      <td>Yes</td>\n",
              "      <td>No</td>\n",
              "      <td>1</td>\n",
              "      <td>No</td>\n",
              "      <td>No phone service</td>\n",
              "      <td>DSL</td>\n",
              "      <td>No</td>\n",
              "      <td>Yes</td>\n",
              "      <td>No</td>\n",
              "      <td>No</td>\n",
              "      <td>No</td>\n",
              "      <td>No</td>\n",
              "      <td>Month-to-month</td>\n",
              "      <td>Yes</td>\n",
              "      <td>Electronic check</td>\n",
              "      <td>29.85</td>\n",
              "      <td>29.850000</td>\n",
              "      <td>No</td>\n",
              "    </tr>\n",
              "    <tr>\n",
              "      <th>1</th>\n",
              "      <td>5575-GNVDE</td>\n",
              "      <td>Male</td>\n",
              "      <td>0</td>\n",
              "      <td>No</td>\n",
              "      <td>No</td>\n",
              "      <td>34</td>\n",
              "      <td>Yes</td>\n",
              "      <td>No</td>\n",
              "      <td>DSL</td>\n",
              "      <td>Yes</td>\n",
              "      <td>No</td>\n",
              "      <td>Yes</td>\n",
              "      <td>No</td>\n",
              "      <td>No</td>\n",
              "      <td>No</td>\n",
              "      <td>One year</td>\n",
              "      <td>No</td>\n",
              "      <td>Mailed check</td>\n",
              "      <td>56.95</td>\n",
              "      <td>1889.500000</td>\n",
              "      <td>No</td>\n",
              "    </tr>\n",
              "    <tr>\n",
              "      <th>2</th>\n",
              "      <td>3668-QPYBK</td>\n",
              "      <td>Male</td>\n",
              "      <td>0</td>\n",
              "      <td>No</td>\n",
              "      <td>No</td>\n",
              "      <td>2</td>\n",
              "      <td>Yes</td>\n",
              "      <td>No</td>\n",
              "      <td>DSL</td>\n",
              "      <td>Yes</td>\n",
              "      <td>Yes</td>\n",
              "      <td>No</td>\n",
              "      <td>No</td>\n",
              "      <td>No</td>\n",
              "      <td>No</td>\n",
              "      <td>Month-to-month</td>\n",
              "      <td>Yes</td>\n",
              "      <td>Mailed check</td>\n",
              "      <td>53.85</td>\n",
              "      <td>108.150002</td>\n",
              "      <td>Yes</td>\n",
              "    </tr>\n",
              "  </tbody>\n",
              "</table>\n",
              "</div>"
            ],
            "text/plain": [
              "   customerID  gender  SeniorCitizen  ... MonthlyCharges TotalCharges  Churn\n",
              "0  7590-VHVEG  Female              0  ...          29.85    29.850000     No\n",
              "1  5575-GNVDE    Male              0  ...          56.95  1889.500000     No\n",
              "2  3668-QPYBK    Male              0  ...          53.85   108.150002    Yes\n",
              "\n",
              "[3 rows x 21 columns]"
            ]
          },
          "metadata": {
            "tags": []
          },
          "execution_count": 14
        }
      ]
    },
    {
      "cell_type": "code",
      "metadata": {
        "id": "xRXW8v6-AhtG"
      },
      "source": [
        "#converventendo as variáveis categóricas do tipo string para tipo numérico(int)\n",
        "lista_cat = []\n",
        "for i in range(0, len(df_copy.dtypes), 1):\n",
        "  if (df_copy.dtypes[i] == 'object'):\n",
        "    lista_cat.append(df_copy.dtypes.keys()[i])\n",
        "\n",
        "label = LabelEncoder()\n",
        "\n",
        "for i in lista_cat:\n",
        "  df_copy[i] = label.fit_transform(df_copy[i])"
      ],
      "execution_count": null,
      "outputs": []
    },
    {
      "cell_type": "code",
      "metadata": {
        "colab": {
          "base_uri": "https://localhost:8080/",
          "height": 162
        },
        "id": "xguFCjtRKwlH",
        "outputId": "d822694a-7105-4c32-b681-b4f097326286"
      },
      "source": [
        "df_copy.head(3)"
      ],
      "execution_count": null,
      "outputs": [
        {
          "output_type": "execute_result",
          "data": {
            "text/html": [
              "<div>\n",
              "<style scoped>\n",
              "    .dataframe tbody tr th:only-of-type {\n",
              "        vertical-align: middle;\n",
              "    }\n",
              "\n",
              "    .dataframe tbody tr th {\n",
              "        vertical-align: top;\n",
              "    }\n",
              "\n",
              "    .dataframe thead th {\n",
              "        text-align: right;\n",
              "    }\n",
              "</style>\n",
              "<table border=\"1\" class=\"dataframe\">\n",
              "  <thead>\n",
              "    <tr style=\"text-align: right;\">\n",
              "      <th></th>\n",
              "      <th>customerID</th>\n",
              "      <th>gender</th>\n",
              "      <th>SeniorCitizen</th>\n",
              "      <th>Partner</th>\n",
              "      <th>Dependents</th>\n",
              "      <th>tenure</th>\n",
              "      <th>PhoneService</th>\n",
              "      <th>MultipleLines</th>\n",
              "      <th>InternetService</th>\n",
              "      <th>OnlineSecurity</th>\n",
              "      <th>OnlineBackup</th>\n",
              "      <th>DeviceProtection</th>\n",
              "      <th>TechSupport</th>\n",
              "      <th>StreamingTV</th>\n",
              "      <th>StreamingMovies</th>\n",
              "      <th>Contract</th>\n",
              "      <th>PaperlessBilling</th>\n",
              "      <th>PaymentMethod</th>\n",
              "      <th>MonthlyCharges</th>\n",
              "      <th>TotalCharges</th>\n",
              "      <th>Churn</th>\n",
              "    </tr>\n",
              "  </thead>\n",
              "  <tbody>\n",
              "    <tr>\n",
              "      <th>0</th>\n",
              "      <td>5375</td>\n",
              "      <td>0</td>\n",
              "      <td>0</td>\n",
              "      <td>1</td>\n",
              "      <td>0</td>\n",
              "      <td>1</td>\n",
              "      <td>0</td>\n",
              "      <td>1</td>\n",
              "      <td>0</td>\n",
              "      <td>0</td>\n",
              "      <td>2</td>\n",
              "      <td>0</td>\n",
              "      <td>0</td>\n",
              "      <td>0</td>\n",
              "      <td>0</td>\n",
              "      <td>0</td>\n",
              "      <td>1</td>\n",
              "      <td>2</td>\n",
              "      <td>29.85</td>\n",
              "      <td>29.850000</td>\n",
              "      <td>0</td>\n",
              "    </tr>\n",
              "    <tr>\n",
              "      <th>1</th>\n",
              "      <td>3962</td>\n",
              "      <td>1</td>\n",
              "      <td>0</td>\n",
              "      <td>0</td>\n",
              "      <td>0</td>\n",
              "      <td>34</td>\n",
              "      <td>1</td>\n",
              "      <td>0</td>\n",
              "      <td>0</td>\n",
              "      <td>2</td>\n",
              "      <td>0</td>\n",
              "      <td>2</td>\n",
              "      <td>0</td>\n",
              "      <td>0</td>\n",
              "      <td>0</td>\n",
              "      <td>1</td>\n",
              "      <td>0</td>\n",
              "      <td>3</td>\n",
              "      <td>56.95</td>\n",
              "      <td>1889.500000</td>\n",
              "      <td>0</td>\n",
              "    </tr>\n",
              "    <tr>\n",
              "      <th>2</th>\n",
              "      <td>2564</td>\n",
              "      <td>1</td>\n",
              "      <td>0</td>\n",
              "      <td>0</td>\n",
              "      <td>0</td>\n",
              "      <td>2</td>\n",
              "      <td>1</td>\n",
              "      <td>0</td>\n",
              "      <td>0</td>\n",
              "      <td>2</td>\n",
              "      <td>2</td>\n",
              "      <td>0</td>\n",
              "      <td>0</td>\n",
              "      <td>0</td>\n",
              "      <td>0</td>\n",
              "      <td>0</td>\n",
              "      <td>1</td>\n",
              "      <td>3</td>\n",
              "      <td>53.85</td>\n",
              "      <td>108.150002</td>\n",
              "      <td>1</td>\n",
              "    </tr>\n",
              "  </tbody>\n",
              "</table>\n",
              "</div>"
            ],
            "text/plain": [
              "   customerID  gender  SeniorCitizen  ...  MonthlyCharges  TotalCharges  Churn\n",
              "0        5375       0              0  ...           29.85     29.850000      0\n",
              "1        3962       1              0  ...           56.95   1889.500000      0\n",
              "2        2564       1              0  ...           53.85    108.150002      1\n",
              "\n",
              "[3 rows x 21 columns]"
            ]
          },
          "metadata": {
            "tags": []
          },
          "execution_count": 13
        }
      ]
    },
    {
      "cell_type": "code",
      "metadata": {
        "colab": {
          "base_uri": "https://localhost:8080/",
          "height": 561
        },
        "id": "5ckRQDS2DDt9",
        "outputId": "9bc7c14c-f8b2-4f45-cb5c-314ef529968b"
      },
      "source": [
        "#Verificando correlação entre o conjunto de dados\n",
        "\n",
        "#Criando figura\n",
        "fig, ax = plt.subplots(figsize=(10,8))\n",
        "\n",
        "#Plotando gráfico\n",
        "sns.heatmap(df_copy[['Dependents', \n",
        "                     \t'OnlineSecurity',\t'OnlineBackup',\t'DeviceProtection',\t'TechSupport',\n",
        "                      'Contract', 'PaperlessBilling',\t'TotalCharges', 'Churn'\t]].corr(), \n",
        "            annot=True, fmt='.2g', linewidths=0.5, annot_kws={'size':14}, cmap = 'coolwarm')\n",
        "\n",
        "#Salvando imagem\n",
        "fig.savefig('filename.png', dpi=1800)"
      ],
      "execution_count": null,
      "outputs": [
        {
          "output_type": "display_data",
          "data": {
            "image/png": "[encoded data removed]",
            "text/plain": [
              "<Figure size 720x576 with 2 Axes>"
            ]
          },
          "metadata": {
            "tags": [],
            "needs_background": "light"
          }
        }
      ]
    },
    {
      "cell_type": "code",
      "metadata": {
        "id": "kXm2tjydDzHq"
      },
      "source": [
        "#Separando em variáveis dependentes e independentes\n",
        "X = df_copy.drop(labels = 'Churn', axis = 1)\n",
        "y = df_copy['Churn']"
      ],
      "execution_count": null,
      "outputs": []
    },
    {
      "cell_type": "code",
      "metadata": {
        "id": "Ktksa8PQD_iQ"
      },
      "source": [
        "#Separando varariáveis em treino e teste\n",
        "X_train, X_test, y_train, y_test = train_test_split(X, y, test_size=0.3, stratify=y, random_state = 123)"
      ],
      "execution_count": null,
      "outputs": []
    },
    {
      "cell_type": "code",
      "metadata": {
        "id": "OCrTPkBBWoBU"
      },
      "source": [
        "#Separando as variáveis em teste de validação e teste final\n",
        "X_test_val, X_test_final, y_test_val, y_test_final = train_test_split(X_test, y_test, test_size = 0.5, stratify = y_test, random_state = 123)"
      ],
      "execution_count": null,
      "outputs": []
    },
    {
      "cell_type": "code",
      "metadata": {
        "colab": {
          "base_uri": "https://localhost:8080/",
          "height": 285
        },
        "id": "xL6aBLnhRsDA",
        "outputId": "d0b4b9b6-e6b1-495d-da5f-5625c7367466"
      },
      "source": [
        "#Plotando o Gráfico para Visualização\n",
        "#Criando figura\n",
        "fig, ax = plt.subplots(figsize=(4,4))\n",
        "\n",
        "#Plotando gráfico\n",
        "sns.countplot(x = y_train, ax = ax, palette = ['#808080', '#00FF7F'])\n",
        "\n",
        "#Mudando nomes dos ticks\n",
        "ax.set_xticklabels(labels = ['Não', 'Sim'], fontdict={'fontsize':13})\n",
        "\n",
        "#Mudando nome do eixo\n",
        "ax.set_ylabel('')\n",
        "ax.set_xlabel('Clientes Churn', fontdict = {'fontsize':13})\n",
        "\n",
        "#Retirando os ticks do eixo\n",
        "ax.tick_params(labelleft = None, left = None)\n",
        "\n",
        "#Apagando linhas do eixo\n",
        "for axis in ['left', 'right','top']:\n",
        "  ax.spines[axis].set_color(None)\n",
        "\n",
        "#Atribuíndo legendas da quantidade de valores em cada barra\n",
        "for i in range(0, len(df['Churn'].value_counts().values), 1):\n",
        "  ax.text(x = i - 0.16, y = y_train.value_counts().values[i] - 400, s = str(y_train.value_counts().values[i]),\n",
        "          size = 15)\n",
        "\n",
        "#Salvando imagem\n",
        "fig.savefig('img.png', dpi = 1200)"
      ],
      "execution_count": null,
      "outputs": [
        {
          "output_type": "display_data",
          "data": {
            "image/png": "[encoded data removed]",
            "text/plain": [
              "<Figure size 288x288 with 1 Axes>"
            ]
          },
          "metadata": {
            "tags": [],
            "needs_background": "light"
          }
        }
      ]
    },
    {
      "cell_type": "code",
      "metadata": {
        "id": "vpSoqIQ5DdK1",
        "colab": {
          "base_uri": "https://localhost:8080/",
          "height": 339
        },
        "outputId": "ffbac56e-3525-4ade-b6d0-7073586087a9"
      },
      "source": [
        "#balanceando conjunto de dados - criando novas linhas com clientes churn\n",
        "ros = RandomOverSampler()\n",
        "\n",
        "#Ajuste para criação das novas variáveis\n",
        "X_train_ros, y_train_ros = ros.fit_sample(X_train, y_train)\n",
        "\n",
        "y_train_ros = pd.Series(y_train_ros)\n",
        "\n",
        "\n",
        "#Plotando o Gráfico para Visualização\n",
        "#Criando figura\n",
        "fig, ax = plt.subplots(figsize=(4,4))\n",
        "\n",
        "#Plotando gráfico\n",
        "sns.countplot(x = y_train_ros, ax = ax, palette = ['#808080', '#00FF7F'])\n",
        "\n",
        "#Mudando nomes dos ticks\n",
        "ax.set_xticklabels(labels = ['Não', 'Sim'], fontdict = {'fontsize':13})\n",
        "\n",
        "#Mudando nome do eixo\n",
        "ax.set_ylabel('')\n",
        "ax.set_xlabel('Clientes Churn', fontdict={'fontsize':13})\n",
        "\n",
        "#Retirando os ticks do eixo\n",
        "ax.tick_params(labelleft = None, left = None)\n",
        "\n",
        "#Apagando linhas do eixo\n",
        "for axis in ['left', 'right','top']:\n",
        "  ax.spines[axis].set_color(None)\n",
        "\n",
        "#Atribuíndo legendas da quantidade de valores em cada barra\n",
        "for i in range(0, len(df['Churn'].value_counts().values), 1):\n",
        "  ax.text(x = i - 0.16, y = y_train_ros.value_counts().values[i] - 400, s = str(y_train_ros.value_counts().values[i]),\n",
        "          size = 15)\n",
        "\n",
        "#Salvando imagem\n",
        "fig.savefig('img1.png', dpi = 1200)"
      ],
      "execution_count": null,
      "outputs": [
        {
          "output_type": "stream",
          "text": [
            "/usr/local/lib/python3.7/dist-packages/sklearn/utils/deprecation.py:87: FutureWarning: Function safe_indexing is deprecated; safe_indexing is deprecated in version 0.22 and will be removed in version 0.24.\n",
            "  warnings.warn(msg, category=FutureWarning)\n"
          ],
          "name": "stderr"
        },
        {
          "output_type": "display_data",
          "data": {
            "image/png": "[encoded data removed]",
            "text/plain": [
              "<Figure size 288x288 with 1 Axes>"
            ]
          },
          "metadata": {
            "tags": [],
            "needs_background": "light"
          }
        }
      ]
    },
    {
      "cell_type": "markdown",
      "metadata": {
        "id": "oOAF5Qyh73po"
      },
      "source": [
        "### **3.2 Treino e Teste do Modelo de Aprendizado de Máquina**"
      ]
    },
    {
      "cell_type": "code",
      "metadata": {
        "id": "kwOlIAfLbyEM"
      },
      "source": [
        "#instanciando o modeo\n",
        "model = GradientBoostingClassifier(n_estimators = 144, max_depth = 3, learning_rate = 4.73, random_state=123)\n",
        "\n",
        "#treinando modelo\n",
        "model.fit(X_train, y_train)\n",
        "\n",
        "#prevendo dados\n",
        "y_pred_val = model.predict(X_test_val)"
      ],
      "execution_count": null,
      "outputs": []
    },
    {
      "cell_type": "code",
      "metadata": {
        "colab": {
          "base_uri": "https://localhost:8080/"
        },
        "id": "9CsUq1UsBuyz",
        "outputId": "268c3e34-664c-4418-d9f1-dac37406215a"
      },
      "source": [
        "#Relatório das métricas\n",
        "print(classification_report(y_test_val, y_pred_val))"
      ],
      "execution_count": null,
      "outputs": [
        {
          "output_type": "stream",
          "text": [
            "              precision    recall  f1-score   support\n",
            "\n",
            "           0       0.92      0.71      0.80       776\n",
            "           1       0.50      0.82      0.62       280\n",
            "\n",
            "    accuracy                           0.74      1056\n",
            "   macro avg       0.71      0.76      0.71      1056\n",
            "weighted avg       0.81      0.74      0.75      1056\n",
            "\n"
          ],
          "name": "stdout"
        }
      ]
    },
    {
      "cell_type": "code",
      "metadata": {
        "colab": {
          "base_uri": "https://localhost:8080/",
          "height": 312
        },
        "id": "Tu8P2F6e-IyF",
        "outputId": "bc8b1332-1317-4ebb-ec0c-9a1d01079af1"
      },
      "source": [
        "#matriz de confusão\n",
        "scikitplot.metrics.plot_confusion_matrix(y_test_val, y_pred_val, normalize=True)"
      ],
      "execution_count": null,
      "outputs": [
        {
          "output_type": "execute_result",
          "data": {
            "text/plain": [
              "<matplotlib.axes._subplots.AxesSubplot at 0x7f8d301c3c50>"
            ]
          },
          "metadata": {
            "tags": []
          },
          "execution_count": 22
        },
        {
          "output_type": "display_data",
          "data": {
            "image/png": "[encoded data removed]",
            "text/plain": [
              "<Figure size 432x288 with 2 Axes>"
            ]
          },
          "metadata": {
            "tags": [],
            "needs_background": "light"
          }
        }
      ]
    },
    {
      "cell_type": "markdown",
      "metadata": {
        "id": "cu2cZceE8RSs"
      },
      "source": [
        "### **3.3 Teste final do Modelo - Métricas de Desempenho Final**"
      ]
    },
    {
      "cell_type": "code",
      "metadata": {
        "colab": {
          "base_uri": "https://localhost:8080/"
        },
        "id": "ZHBfT5Byj5dh",
        "outputId": "c962b4d4-1014-462e-8aee-08185db94c9e"
      },
      "source": [
        "#teste final\n",
        "y_pred_final = model.predict(X_test_final)\n",
        "\n",
        "#relatório das métricas\n",
        "print(classification_report(y_true = y_test_final, y_pred = y_pred_final))"
      ],
      "execution_count": null,
      "outputs": [
        {
          "output_type": "stream",
          "text": [
            "              precision    recall  f1-score   support\n",
            "\n",
            "           0       0.88      0.70      0.78       776\n",
            "           1       0.47      0.73      0.58       281\n",
            "\n",
            "    accuracy                           0.71      1057\n",
            "   macro avg       0.68      0.72      0.68      1057\n",
            "weighted avg       0.77      0.71      0.73      1057\n",
            "\n"
          ],
          "name": "stdout"
        }
      ]
    },
    {
      "cell_type": "code",
      "metadata": {
        "colab": {
          "base_uri": "https://localhost:8080/",
          "height": 360
        },
        "id": "kelcd6C8ndNw",
        "outputId": "034b3001-cfa2-4174-89ef-e04a931f7b6c"
      },
      "source": [
        "#Matriz de Confusão \n",
        "\n",
        "#Criando figura\n",
        "fig, ax = plt.subplots(figsize = (7,5))\n",
        "\n",
        "#Plotando gráfico\n",
        "sns.heatmap(confusion_matrix(y_true = y_test_final, y_pred = y_pred_final), annot = True, fmt='', cmap = 'Blues', ax = ax,\n",
        "            annot_kws = {'size':16})\n",
        "\n",
        "#Mudando nomes dos ticks\n",
        "ax.set_xticklabels(['0', '1'], fontdict={'fontsize':14})\n",
        "ax.set_yticklabels(['0', '1'], fontdict={'fontsize':14})\n",
        "\n",
        "#Atribuindo título\n",
        "ax.set_title('Matriz de Confusão', fontdict={'fontsize':15})\n",
        "\n",
        "#Mudando nome do eixo\n",
        "ax.set_xlabel('Eixo Previsto', fontdict={'fontsize':14})\n",
        "ax.set_ylabel('Eixo Real', fontdict={'fontsize':14})\n",
        "\n",
        "#Salvando imagem\n",
        "fig.savefig('matriz_1', dpi=1200)"
      ],
      "execution_count": null,
      "outputs": [
        {
          "output_type": "display_data",
          "data": {
            "image/png": "[encoded data removed]",
            "text/plain": [
              "<Figure size 504x360 with 2 Axes>"
            ]
          },
          "metadata": {
            "tags": [],
            "needs_background": "light"
          }
        }
      ]
    },
    {
      "cell_type": "code",
      "metadata": {
        "colab": {
          "base_uri": "https://localhost:8080/",
          "height": 360
        },
        "id": "W26ebXE8mo9w",
        "outputId": "f1de1134-9fc6-4608-c41a-b05bad613dd0"
      },
      "source": [
        "#matriz de confusão\n",
        "\n",
        "#Criando figura\n",
        "fig, ax = plt.subplots(figsize = (7,5))\n",
        "\n",
        "#Plotando gráfico\n",
        "scikitplot.metrics.plot_confusion_matrix(y_true = y_test_final, y_pred = y_pred_final, \n",
        "                                         normalize = True, ax = ax)\n",
        "\n",
        "#Mudando nomes dos ticks\n",
        "ax.set_xticklabels(['0', '1'], fontdict={'fontsize':14})\n",
        "ax.set_yticklabels(['0', '1'], fontdict={'fontsize':14})\n",
        "\n",
        "#Atribuindo título\n",
        "ax.set_title('Matriz de Confusão', fontdict={'fontsize':15})\n",
        "\n",
        "#Mudando nome do eixo\n",
        "ax.set_xlabel('Eixo Previsto', fontdict={'fontsize':14})\n",
        "ax.set_ylabel('Eixo Real', fontdict={'fontsize':14})\n",
        "\n",
        "#Salvando imagem\n",
        "fig.savefig('matriz_2', dpi=1200)"
      ],
      "execution_count": null,
      "outputs": [
        {
          "output_type": "display_data",
          "data": {
            "image/png": "[encoded data removed]",
            "text/plain": [
              "<Figure size 504x360 with 2 Axes>"
            ]
          },
          "metadata": {
            "tags": [],
            "needs_background": "light"
          }
        }
      ]
    }
  ]
}